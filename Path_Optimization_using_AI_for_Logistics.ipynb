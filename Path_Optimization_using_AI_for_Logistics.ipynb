{
  "nbformat": 4,
  "nbformat_minor": 0,
  "metadata": {
    "colab": {
      "provenance": [],
      "gpuType": "T4"
    },
    "kernelspec": {
      "name": "python3",
      "display_name": "Python 3"
    },
    "language_info": {
      "name": "python"
    },
    "accelerator": "GPU"
  },
  "cells": [
    {
      "cell_type": "markdown",
      "source": [
        "# **Path Optimization using AI**"
      ],
      "metadata": {
        "id": "6B34I9Z--xgM"
      }
    },
    {
      "cell_type": "markdown",
      "source": [
        "**Team Members**\n",
        "\n",
        "1. Edwin Johny Paul\n",
        "2. Sethulakshmi Kochuchirayil Babu\n",
        "3. Sandeep Pidugu\n",
        "4. Parth Pareshbhai Vekariya"
      ],
      "metadata": {
        "id": "P5jdwy-8DeRc"
      }
    },
    {
      "cell_type": "markdown",
      "source": [
        "**Accessing Dataset**\n",
        "\n",
        "OSMnx library is used to import the required data with which the shortest path is found between two nodes/places."
      ],
      "metadata": {
        "id": "e8Ve50K7GGcX"
      }
    },
    {
      "cell_type": "code",
      "source": [
        "!pip install requests folium geopy\n",
        "!pip install pyproj\n",
        "\n",
        "!pip install requests osmnx folium geopy networkx\n",
        "!pip install networkx osmnx requests"
      ],
      "metadata": {
        "colab": {
          "base_uri": "https://localhost:8080/"
        },
        "collapsed": true,
        "id": "E9h0ioYUPNgO",
        "outputId": "bb2d14ff-2736-4511-a17d-2b7b375e021e"
      },
      "execution_count": null,
      "outputs": [
        {
          "output_type": "stream",
          "name": "stdout",
          "text": [
            "Requirement already satisfied: requests in /usr/local/lib/python3.10/dist-packages (2.32.3)\n",
            "Requirement already satisfied: folium in /usr/local/lib/python3.10/dist-packages (0.18.0)\n",
            "Requirement already satisfied: geopy in /usr/local/lib/python3.10/dist-packages (2.4.1)\n",
            "Requirement already satisfied: charset-normalizer<4,>=2 in /usr/local/lib/python3.10/dist-packages (from requests) (3.4.0)\n",
            "Requirement already satisfied: idna<4,>=2.5 in /usr/local/lib/python3.10/dist-packages (from requests) (3.10)\n",
            "Requirement already satisfied: urllib3<3,>=1.21.1 in /usr/local/lib/python3.10/dist-packages (from requests) (2.2.3)\n",
            "Requirement already satisfied: certifi>=2017.4.17 in /usr/local/lib/python3.10/dist-packages (from requests) (2024.8.30)\n",
            "Requirement already satisfied: branca>=0.6.0 in /usr/local/lib/python3.10/dist-packages (from folium) (0.8.0)\n",
            "Requirement already satisfied: jinja2>=2.9 in /usr/local/lib/python3.10/dist-packages (from folium) (3.1.4)\n",
            "Requirement already satisfied: numpy in /usr/local/lib/python3.10/dist-packages (from folium) (1.26.4)\n",
            "Requirement already satisfied: xyzservices in /usr/local/lib/python3.10/dist-packages (from folium) (2024.9.0)\n",
            "Requirement already satisfied: geographiclib<3,>=1.52 in /usr/local/lib/python3.10/dist-packages (from geopy) (2.0)\n",
            "Requirement already satisfied: MarkupSafe>=2.0 in /usr/local/lib/python3.10/dist-packages (from jinja2>=2.9->folium) (3.0.2)\n",
            "Requirement already satisfied: pyproj in /usr/local/lib/python3.10/dist-packages (3.7.0)\n",
            "Requirement already satisfied: certifi in /usr/local/lib/python3.10/dist-packages (from pyproj) (2024.8.30)\n",
            "Requirement already satisfied: requests in /usr/local/lib/python3.10/dist-packages (2.32.3)\n",
            "Collecting osmnx\n",
            "  Downloading osmnx-2.0.0-py3-none-any.whl.metadata (4.8 kB)\n",
            "Requirement already satisfied: folium in /usr/local/lib/python3.10/dist-packages (0.18.0)\n",
            "Requirement already satisfied: geopy in /usr/local/lib/python3.10/dist-packages (2.4.1)\n",
            "Requirement already satisfied: networkx in /usr/local/lib/python3.10/dist-packages (3.4.2)\n",
            "Requirement already satisfied: charset-normalizer<4,>=2 in /usr/local/lib/python3.10/dist-packages (from requests) (3.4.0)\n",
            "Requirement already satisfied: idna<4,>=2.5 in /usr/local/lib/python3.10/dist-packages (from requests) (3.10)\n",
            "Requirement already satisfied: urllib3<3,>=1.21.1 in /usr/local/lib/python3.10/dist-packages (from requests) (2.2.3)\n",
            "Requirement already satisfied: certifi>=2017.4.17 in /usr/local/lib/python3.10/dist-packages (from requests) (2024.8.30)\n",
            "Requirement already satisfied: geopandas>=1.0 in /usr/local/lib/python3.10/dist-packages (from osmnx) (1.0.1)\n",
            "Requirement already satisfied: numpy>=1.22 in /usr/local/lib/python3.10/dist-packages (from osmnx) (1.26.4)\n",
            "Requirement already satisfied: pandas>=1.4 in /usr/local/lib/python3.10/dist-packages (from osmnx) (2.2.2)\n",
            "Requirement already satisfied: shapely>=2.0 in /usr/local/lib/python3.10/dist-packages (from osmnx) (2.0.6)\n",
            "Requirement already satisfied: branca>=0.6.0 in /usr/local/lib/python3.10/dist-packages (from folium) (0.8.0)\n",
            "Requirement already satisfied: jinja2>=2.9 in /usr/local/lib/python3.10/dist-packages (from folium) (3.1.4)\n",
            "Requirement already satisfied: xyzservices in /usr/local/lib/python3.10/dist-packages (from folium) (2024.9.0)\n",
            "Requirement already satisfied: geographiclib<3,>=1.52 in /usr/local/lib/python3.10/dist-packages (from geopy) (2.0)\n",
            "Requirement already satisfied: pyogrio>=0.7.2 in /usr/local/lib/python3.10/dist-packages (from geopandas>=1.0->osmnx) (0.10.0)\n",
            "Requirement already satisfied: packaging in /usr/local/lib/python3.10/dist-packages (from geopandas>=1.0->osmnx) (24.2)\n",
            "Requirement already satisfied: pyproj>=3.3.0 in /usr/local/lib/python3.10/dist-packages (from geopandas>=1.0->osmnx) (3.7.0)\n",
            "Requirement already satisfied: MarkupSafe>=2.0 in /usr/local/lib/python3.10/dist-packages (from jinja2>=2.9->folium) (3.0.2)\n",
            "Requirement already satisfied: python-dateutil>=2.8.2 in /usr/local/lib/python3.10/dist-packages (from pandas>=1.4->osmnx) (2.8.2)\n",
            "Requirement already satisfied: pytz>=2020.1 in /usr/local/lib/python3.10/dist-packages (from pandas>=1.4->osmnx) (2024.2)\n",
            "Requirement already satisfied: tzdata>=2022.7 in /usr/local/lib/python3.10/dist-packages (from pandas>=1.4->osmnx) (2024.2)\n",
            "Requirement already satisfied: six>=1.5 in /usr/local/lib/python3.10/dist-packages (from python-dateutil>=2.8.2->pandas>=1.4->osmnx) (1.16.0)\n",
            "Downloading osmnx-2.0.0-py3-none-any.whl (99 kB)\n",
            "\u001b[2K   \u001b[90m━━━━━━━━━━━━━━━━━━━━━━━━━━━━━━━━━━━━━━━━\u001b[0m \u001b[32m99.4/99.4 kB\u001b[0m \u001b[31m3.8 MB/s\u001b[0m eta \u001b[36m0:00:00\u001b[0m\n",
            "\u001b[?25hInstalling collected packages: osmnx\n",
            "Successfully installed osmnx-2.0.0\n",
            "Requirement already satisfied: networkx in /usr/local/lib/python3.10/dist-packages (3.4.2)\n",
            "Requirement already satisfied: osmnx in /usr/local/lib/python3.10/dist-packages (2.0.0)\n",
            "Requirement already satisfied: requests in /usr/local/lib/python3.10/dist-packages (2.32.3)\n",
            "Requirement already satisfied: geopandas>=1.0 in /usr/local/lib/python3.10/dist-packages (from osmnx) (1.0.1)\n",
            "Requirement already satisfied: numpy>=1.22 in /usr/local/lib/python3.10/dist-packages (from osmnx) (1.26.4)\n",
            "Requirement already satisfied: pandas>=1.4 in /usr/local/lib/python3.10/dist-packages (from osmnx) (2.2.2)\n",
            "Requirement already satisfied: shapely>=2.0 in /usr/local/lib/python3.10/dist-packages (from osmnx) (2.0.6)\n",
            "Requirement already satisfied: charset-normalizer<4,>=2 in /usr/local/lib/python3.10/dist-packages (from requests) (3.4.0)\n",
            "Requirement already satisfied: idna<4,>=2.5 in /usr/local/lib/python3.10/dist-packages (from requests) (3.10)\n",
            "Requirement already satisfied: urllib3<3,>=1.21.1 in /usr/local/lib/python3.10/dist-packages (from requests) (2.2.3)\n",
            "Requirement already satisfied: certifi>=2017.4.17 in /usr/local/lib/python3.10/dist-packages (from requests) (2024.8.30)\n",
            "Requirement already satisfied: pyogrio>=0.7.2 in /usr/local/lib/python3.10/dist-packages (from geopandas>=1.0->osmnx) (0.10.0)\n",
            "Requirement already satisfied: packaging in /usr/local/lib/python3.10/dist-packages (from geopandas>=1.0->osmnx) (24.2)\n",
            "Requirement already satisfied: pyproj>=3.3.0 in /usr/local/lib/python3.10/dist-packages (from geopandas>=1.0->osmnx) (3.7.0)\n",
            "Requirement already satisfied: python-dateutil>=2.8.2 in /usr/local/lib/python3.10/dist-packages (from pandas>=1.4->osmnx) (2.8.2)\n",
            "Requirement already satisfied: pytz>=2020.1 in /usr/local/lib/python3.10/dist-packages (from pandas>=1.4->osmnx) (2024.2)\n",
            "Requirement already satisfied: tzdata>=2022.7 in /usr/local/lib/python3.10/dist-packages (from pandas>=1.4->osmnx) (2024.2)\n",
            "Requirement already satisfied: six>=1.5 in /usr/local/lib/python3.10/dist-packages (from python-dateutil>=2.8.2->pandas>=1.4->osmnx) (1.16.0)\n"
          ]
        }
      ]
    },
    {
      "cell_type": "markdown",
      "source": [
        "**Importing necessary libraries**\n",
        "\n",
        "- **requests**: For making API calls (e.g., GraphHopper, OpenWeather).\n",
        "- **folium**: For creating interactive maps.\n",
        "- **heapq**: For priority queue in A* algorithm.\n",
        "- **geopy.Nominatim**: To geocode place names to coordinates.\n",
        "- **IPython.display**: To render maps in Jupyter Notebook.\n",
        "- **time**: For adding delays, e.g., during retries."
      ],
      "metadata": {
        "id": "Y_WdXJB--GWb"
      }
    },
    {
      "cell_type": "code",
      "source": [
        "import requests\n",
        "import folium\n",
        "import heapq\n",
        "from geopy.geocoders import Nominatim\n",
        "from IPython.display import display\n",
        "import time"
      ],
      "metadata": {
        "id": "36IN0W4q8bGq"
      },
      "execution_count": null,
      "outputs": []
    },
    {
      "cell_type": "code",
      "source": [
        "# API Keys\n",
        "GRAPH_HOPPER_API_KEY = \"YOUR API KEY\"\n",
        "OPENWEATHER_API_KEY = \"YOUR API KEY\""
      ],
      "metadata": {
        "id": "XwEnXOdO8cwa"
      },
      "execution_count": null,
      "outputs": []
    },
    {
      "cell_type": "markdown",
      "source": [
        "**A* for path finding**"
      ],
      "metadata": {
        "id": "x9REYd7n98fP"
      }
    },
    {
      "cell_type": "code",
      "source": [
        "def astar(start, goal, graph, heuristic):\n",
        "    open_list = []\n",
        "    closed_list = set()\n",
        "    came_from = {}\n",
        "    g_score = {start: 0}\n",
        "    f_score = {start: heuristic(start, goal)}\n",
        "    heapq.heappush(open_list, (f_score[start], start))\n",
        "\n",
        "    while open_list:\n",
        "        _, current = heapq.heappop(open_list)\n",
        "\n",
        "        if current == goal:\n",
        "            path = []\n",
        "            while current in came_from:\n",
        "                path.append(current)\n",
        "                current = came_from[current]\n",
        "            path.append(start)\n",
        "            path.reverse()\n",
        "            return path\n",
        "\n",
        "        closed_list.add(current)\n",
        "\n",
        "        for neighbor, cost in graph.get(current, {}).items():\n",
        "            if neighbor in closed_list:\n",
        "                continue\n",
        "            tentative_g_score = g_score[current] + cost\n",
        "            if neighbor not in g_score or tentative_g_score < g_score[neighbor]:\n",
        "                came_from[neighbor] = current\n",
        "                g_score[neighbor] = tentative_g_score\n",
        "                f_score[neighbor] = tentative_g_score + heuristic(neighbor, goal)\n",
        "                heapq.heappush(open_list, (f_score[neighbor], neighbor))\n",
        "\n",
        "    return None"
      ],
      "metadata": {
        "id": "SK0v60Av8iq8"
      },
      "execution_count": null,
      "outputs": []
    },
    {
      "cell_type": "markdown",
      "source": [
        "**Applying Euclidean distance heuristic**"
      ],
      "metadata": {
        "id": "g6xh-veo93Xa"
      }
    },
    {
      "cell_type": "code",
      "source": [
        "def euclidean_heuristic(node, goal):\n",
        "    x1, y1 = node\n",
        "    x2, y2 = goal\n",
        "    return ((x2 - x1) ** 2 + (y2 - y1) ** 2) ** 0.5"
      ],
      "metadata": {
        "id": "_rWAcD8q8lfA"
      },
      "execution_count": null,
      "outputs": []
    },
    {
      "cell_type": "markdown",
      "source": [
        "**Adding Real Time Traffic Informations using GraphHopper API**"
      ],
      "metadata": {
        "id": "JcFSO5Vj9p6w"
      }
    },
    {
      "cell_type": "code",
      "source": [
        "def get_graphhopper_route(start_coords, end_coords, alternative=True):\n",
        "    start_lat, start_lon = start_coords\n",
        "    end_lat, end_lon = end_coords\n",
        "    url = f\"https://graphhopper.com/api/1/route?point={start_lat},{start_lon}&point={end_lat},{end_lon}&type=json&vehicle=car&locale=en&key={GRAPH_HOPPER_API_KEY}&alternatives={str(alternative).lower()}\"\n",
        "    response = requests.get(url)\n",
        "    try:\n",
        "        data = response.json()\n",
        "        if \"paths\" in data:\n",
        "            return data[\"paths\"]\n",
        "        else:\n",
        "            print(f\"GraphHopper API error: {data.get('message', 'Unexpected response')}\")\n",
        "            return None\n",
        "    except Exception as e:\n",
        "        print(f\"Failed to fetch route data: {e}\")\n",
        "        return None"
      ],
      "metadata": {
        "id": "StNiKIG68rNl"
      },
      "execution_count": null,
      "outputs": []
    },
    {
      "cell_type": "markdown",
      "source": [
        "**Adding Weather conditions using OpenWeatherMap API**"
      ],
      "metadata": {
        "id": "rXiE5AOA9hfr"
      }
    },
    {
      "cell_type": "code",
      "source": [
        "def get_weather(location_name):\n",
        "    url = f\"https://api.openweathermap.org/data/2.5/weather?q={location_name}&appid={OPENWEATHER_API_KEY}&units=metric\"\n",
        "    response = requests.get(url)\n",
        "    try:\n",
        "        data = response.json()\n",
        "        if data.get(\"cod\") == 200:\n",
        "            return {\n",
        "                \"description\": data[\"weather\"][0][\"description\"],\n",
        "                \"temp\": data[\"main\"][\"temp\"],\n",
        "                \"wind_speed\": data[\"wind\"][\"speed\"]\n",
        "            }\n",
        "        else:\n",
        "            print(f\"Weather API error: {data.get('message', 'Unexpected response')}\")\n",
        "            return None\n",
        "    except Exception as e:\n",
        "        print(f\"Failed to fetch weather data: {e}\")\n",
        "        return None\n",
        "\n",
        "def display_weather(start_weather, end_weather):\n",
        "    print(\"Weather Information:\")\n",
        "    print(f\"\\nStart Location Weather:\")\n",
        "    print(f\"Condition: {start_weather['description'].capitalize()}\")\n",
        "    print(f\"Temperature: {start_weather['temp']}°C\")\n",
        "    print(f\"Wind Speed: {start_weather['wind_speed']} m/s\")\n",
        "\n",
        "    print(f\"\\nEnd Location Weather:\")\n",
        "    print(f\"Condition: {end_weather['description'].capitalize()}\")\n",
        "    print(f\"Temperature: {end_weather['temp']}°C\")\n",
        "    print(f\"Wind Speed: {end_weather['wind_speed']} m/s\")"
      ],
      "metadata": {
        "id": "eOOAbmzn8wA2"
      },
      "execution_count": null,
      "outputs": []
    },
    {
      "cell_type": "markdown",
      "source": [
        "**Estimating Traffic Flow**"
      ],
      "metadata": {
        "id": "GDw25zjl9dEF"
      }
    },
    {
      "cell_type": "code",
      "source": [
        "def estimate_traffic_flow(route_time, expected_time):\n",
        "    delay = (route_time - expected_time) / 60\n",
        "    if delay <= 0:\n",
        "        return \"green\"  # Low traffic\n",
        "    elif delay <= 10:\n",
        "        return \"yellow\"  # Moderate traffic\n",
        "    else:\n",
        "        return \"red\"  # Heavy traffic"
      ],
      "metadata": {
        "id": "Fy8SMSkS9PF4"
      },
      "execution_count": null,
      "outputs": []
    },
    {
      "cell_type": "markdown",
      "source": [
        "**Visualising Routes**"
      ],
      "metadata": {
        "id": "z_KskXYr9QA_"
      }
    },
    {
      "cell_type": "code",
      "source": [
        "def visualize_route(route_data, start_coords, end_coords):\n",
        "    route_map = folium.Map(location=start_coords, zoom_start=14)\n",
        "\n",
        "    folium.Marker(location=start_coords, popup=\"Start\", icon=folium.Icon(color=\"green\")).add_to(route_map)\n",
        "    folium.Marker(location=end_coords, popup=\"End\", icon=folium.Icon(color=\"red\")).add_to(route_map)\n",
        "\n",
        "    if route_data:\n",
        "        for idx, path in enumerate(route_data):\n",
        "            polyline = path.get(\"points\", None)\n",
        "            if polyline:\n",
        "                decoded_points = decode_polyline(polyline)\n",
        "                if decoded_points:\n",
        "                    route_distance = path.get(\"distance\", 0) / 1000\n",
        "                    expected_time = route_distance / 30 * 60\n",
        "                    route_time = path.get(\"time\", 0) / 1000\n",
        "\n",
        "                    traffic_flow = estimate_traffic_flow(route_time, expected_time)\n",
        "\n",
        "                    folium.PolyLine(\n",
        "                        decoded_points,\n",
        "                        color=traffic_flow,\n",
        "                        weight=5,\n",
        "                        popup=f\"Route {idx+1}: {route_distance:.2f} km, {route_time/60:.1f} mins\"\n",
        "                    ).add_to(route_map)\n",
        "                else:\n",
        "                    print(f\"Failed to decode polyline for Route {idx+1}\")\n",
        "            else:\n",
        "                print(f\"No polyline data for Route {idx+1}\")\n",
        "    else:\n",
        "        print(\"No route data available.\")\n",
        "\n",
        "    # Adding traffic flow legend\n",
        "    legend_html = \"\"\"\n",
        "    <div style=\"position: fixed; bottom: 10px; left: 10px; width: 200px; height: 120px; background-color: white;\n",
        "    border: 2px solid black; z-index:9999; font-size: 14px; padding: 10px;\">\n",
        "        <b>Traffic Flow Legend</b><br>\n",
        "        <i style=\"background-color: green; width: 20px; height: 20px; display: inline-block;\"></i> Low Traffic<br>\n",
        "        <i style=\"background-color: yellow; width: 20px; height: 20px; display: inline-block;\"></i> Moderate Traffic<br>\n",
        "        <i style=\"background-color: red; width: 20px; height: 20px; display: inline-block;\"></i> Heavy Traffic\n",
        "    </div>\n",
        "    \"\"\"\n",
        "    route_map.get_root().html.add_child(folium.Element(legend_html))\n",
        "\n",
        "    display(route_map)\n"
      ],
      "metadata": {
        "id": "zRe5rQvG83wv"
      },
      "execution_count": null,
      "outputs": []
    },
    {
      "cell_type": "markdown",
      "source": [
        "**Geocoding the location using OSM Nominatim tool and fetching the lattittude and longitude using Polyline**"
      ],
      "metadata": {
        "id": "guxgJBYEUW9J"
      }
    },
    {
      "cell_type": "code",
      "execution_count": null,
      "metadata": {
        "id": "7rQU93bKPHWX"
      },
      "outputs": [],
      "source": [
        "# Decode GraphHopper polyline\n",
        "def decode_polyline(encoded):\n",
        "    coords = []\n",
        "    index, lat, lng = 0, 0, 0\n",
        "    while index < len(encoded):\n",
        "        shift, result = 0, 0\n",
        "        while True:\n",
        "            b = ord(encoded[index]) - 63\n",
        "            index += 1\n",
        "            result |= (b & 0x1F) << shift\n",
        "            shift += 5\n",
        "            if b < 0x20:\n",
        "                break\n",
        "        lat += ~(result >> 1) if result & 1 else result >> 1\n",
        "\n",
        "        shift, result = 0, 0\n",
        "        while True:\n",
        "            b = ord(encoded[index]) - 63\n",
        "            index += 1\n",
        "            result |= (b & 0x1F) << shift\n",
        "            shift += 5\n",
        "            if b < 0x20:\n",
        "                break\n",
        "        lng += ~(result >> 1) if result & 1 else result >> 1\n",
        "\n",
        "        coords.append((lat / 1e5, lng / 1e5))\n",
        "    return coords\n",
        "\n",
        "def geocode_location(location_name):\n",
        "    geolocator = Nominatim(user_agent=\"route_finder\")\n",
        "    retries = 3\n",
        "    for _ in range(retries):\n",
        "        try:\n",
        "            location = geolocator.geocode(location_name, timeout=5)\n",
        "            if location:\n",
        "                return location.latitude, location.longitude\n",
        "        except Exception as e:\n",
        "            print(f\"Error geocoding {location_name}: {e}\")\n",
        "            time.sleep(2)\n",
        "    return None"
      ]
    },
    {
      "cell_type": "code",
      "source": [
        "if __name__ == \"__main__\":\n",
        "    start_location = input(\"Enter the starting place name: \")\n",
        "    end_location = input(\"Enter the ending place name: \")\n",
        "\n",
        "    start_coords = geocode_location(start_location)\n",
        "    end_coords = geocode_location(end_location)\n",
        "\n",
        "    if start_coords and end_coords:\n",
        "        start_weather = get_weather(start_location)\n",
        "        end_weather = get_weather(end_location)\n",
        "\n",
        "        if start_weather and end_weather:\n",
        "            display_weather(start_weather, end_weather)\n",
        "\n",
        "        route_data = get_graphhopper_route(start_coords, end_coords, alternative=True)\n",
        "        if route_data:\n",
        "            # distance and time for primary route\n",
        "            total_distance_in_km = route_data[0]['distance'] / 1000\n",
        "            route_time_in_minutes = route_data[0]['time'] / 1000 / 60\n",
        "\n",
        "            print(f\"Total Distance: {total_distance_in_km:.2f} km\")\n",
        "            print(f\"Route Time: {route_time_in_minutes:.2f} minutes\")\n",
        "            print(\"Route Instructions:\")\n",
        "\n",
        "            cumulative_distance = 0\n",
        "            for step in route_data[0].get(\"instructions\", []):\n",
        "                step_distance_km = step['distance'] / 1000\n",
        "                cumulative_distance += step['distance']\n",
        "                print(f\" - {step['text']} ({step['distance']} meters / {step_distance_km:.2f} km)\")\n",
        "\n",
        "            print(f\"Cumulative Distance: {cumulative_distance / 1000:.2f} km\")\n",
        "\n",
        "            visualize_route(route_data, start_coords, end_coords)\n",
        "        else:\n",
        "            print(\"Failed to fetch route data.\")\n",
        "    else:\n",
        "        print(\"Failed to geocode one or both locations.\")\n"
      ],
      "metadata": {
        "colab": {
          "base_uri": "https://localhost:8080/",
          "height": 1000
        },
        "id": "SX-iXu94_hlS",
        "outputId": "87ebb451-466c-4434-f7a9-39a882111d51"
      },
      "execution_count": null,
      "outputs": [
        {
          "output_type": "stream",
          "name": "stdout",
          "text": [
            "Enter the starting place name: chatelet\n",
            "Enter the ending place name: bercy\n",
            "Weather Information:\n",
            "\n",
            "Start Location Weather:\n",
            "Condition: Mist\n",
            "Temperature: 2.28°C\n",
            "Wind Speed: 4.63 m/s\n",
            "\n",
            "End Location Weather:\n",
            "Condition: Overcast clouds\n",
            "Temperature: 5.08°C\n",
            "Wind Speed: 4.12 m/s\n",
            "Total Distance: 5.49 km\n",
            "Route Time: 26.01 minutes\n",
            "Route Instructions:\n",
            " - Continue (539.762 meters / 0.54 km)\n",
            " - Continue onto Souterrain Grande Boucle (Voie BCL) (299.604 meters / 0.30 km)\n",
            " - Keep left onto Souterrain Sortie Hôtel de Ville (Voie S2) (699.046 meters / 0.70 km)\n",
            " - Turn right onto Rue de Rivoli (168.269 meters / 0.17 km)\n",
            " - Turn left onto Rue Saint-Martin (70.607 meters / 0.07 km)\n",
            " - Turn left onto Quai de Gesvres (2662.582 meters / 2.66 km)\n",
            " - Keep right onto Quai de la Rapée (262.747 meters / 0.26 km)\n",
            " - Continue onto Quai de Bercy (22.107 meters / 0.02 km)\n",
            " - Turn left onto Boulevard de Bercy (552.138 meters / 0.55 km)\n",
            " - Turn right (128.959 meters / 0.13 km)\n",
            " - Turn sharp left (88.253 meters / 0.09 km)\n",
            " - Arrive at destination (0.0 meters / 0.00 km)\n",
            "Cumulative Distance: 5.49 km\n"
          ]
        },
        {
          "output_type": "display_data",
          "data": {
            "text/plain": [
              "<folium.folium.Map at 0x7a0309098d60>"
            ],
            "text/html": [
              "<div style=\"width:100%;\"><div style=\"position:relative;width:100%;height:0;padding-bottom:60%;\"><span style=\"color:#565656\">Make this Notebook Trusted to load map: File -> Trust Notebook</span><iframe srcdoc=\"&lt;!DOCTYPE html&gt;\n",
              "&lt;html&gt;\n",
              "&lt;head&gt;\n",
              "    \n",
              "    &lt;meta http-equiv=&quot;content-type&quot; content=&quot;text/html; charset=UTF-8&quot; /&gt;\n",
              "    \n",
              "        &lt;script&gt;\n",
              "            L_NO_TOUCH = false;\n",
              "            L_DISABLE_3D = false;\n",
              "        &lt;/script&gt;\n",
              "    \n",
              "    &lt;style&gt;html, body {width: 100%;height: 100%;margin: 0;padding: 0;}&lt;/style&gt;\n",
              "    &lt;style&gt;#map {position:absolute;top:0;bottom:0;right:0;left:0;}&lt;/style&gt;\n",
              "    &lt;script src=&quot;https://cdn.jsdelivr.net/npm/leaflet@1.9.3/dist/leaflet.js&quot;&gt;&lt;/script&gt;\n",
              "    &lt;script src=&quot;https://code.jquery.com/jquery-3.7.1.min.js&quot;&gt;&lt;/script&gt;\n",
              "    &lt;script src=&quot;https://cdn.jsdelivr.net/npm/bootstrap@5.2.2/dist/js/bootstrap.bundle.min.js&quot;&gt;&lt;/script&gt;\n",
              "    &lt;script src=&quot;https://cdnjs.cloudflare.com/ajax/libs/Leaflet.awesome-markers/2.0.2/leaflet.awesome-markers.js&quot;&gt;&lt;/script&gt;\n",
              "    &lt;link rel=&quot;stylesheet&quot; href=&quot;https://cdn.jsdelivr.net/npm/leaflet@1.9.3/dist/leaflet.css&quot;/&gt;\n",
              "    &lt;link rel=&quot;stylesheet&quot; href=&quot;https://cdn.jsdelivr.net/npm/bootstrap@5.2.2/dist/css/bootstrap.min.css&quot;/&gt;\n",
              "    &lt;link rel=&quot;stylesheet&quot; href=&quot;https://netdna.bootstrapcdn.com/bootstrap/3.0.0/css/bootstrap-glyphicons.css&quot;/&gt;\n",
              "    &lt;link rel=&quot;stylesheet&quot; href=&quot;https://cdn.jsdelivr.net/npm/@fortawesome/fontawesome-free@6.2.0/css/all.min.css&quot;/&gt;\n",
              "    &lt;link rel=&quot;stylesheet&quot; href=&quot;https://cdnjs.cloudflare.com/ajax/libs/Leaflet.awesome-markers/2.0.2/leaflet.awesome-markers.css&quot;/&gt;\n",
              "    &lt;link rel=&quot;stylesheet&quot; href=&quot;https://cdn.jsdelivr.net/gh/python-visualization/folium/folium/templates/leaflet.awesome.rotate.min.css&quot;/&gt;\n",
              "    \n",
              "            &lt;meta name=&quot;viewport&quot; content=&quot;width=device-width,\n",
              "                initial-scale=1.0, maximum-scale=1.0, user-scalable=no&quot; /&gt;\n",
              "            &lt;style&gt;\n",
              "                #map_a3db72d33b5ff5d48da37ee6762e52c6 {\n",
              "                    position: relative;\n",
              "                    width: 100.0%;\n",
              "                    height: 100.0%;\n",
              "                    left: 0.0%;\n",
              "                    top: 0.0%;\n",
              "                }\n",
              "                .leaflet-container { font-size: 1rem; }\n",
              "            &lt;/style&gt;\n",
              "        \n",
              "&lt;/head&gt;\n",
              "&lt;body&gt;\n",
              "    \n",
              "    \n",
              "    &lt;div style=&quot;position: fixed; bottom: 10px; left: 10px; width: 200px; height: 120px; background-color: white;\n",
              "    border: 2px solid black; z-index:9999; font-size: 14px; padding: 10px;&quot;&gt;\n",
              "        &lt;b&gt;Traffic Flow Legend&lt;/b&gt;&lt;br&gt;\n",
              "        &lt;i style=&quot;background-color: green; width: 20px; height: 20px; display: inline-block;&quot;&gt;&lt;/i&gt; Low Traffic&lt;br&gt;\n",
              "        &lt;i style=&quot;background-color: yellow; width: 20px; height: 20px; display: inline-block;&quot;&gt;&lt;/i&gt; Moderate Traffic&lt;br&gt;\n",
              "        &lt;i style=&quot;background-color: red; width: 20px; height: 20px; display: inline-block;&quot;&gt;&lt;/i&gt; Heavy Traffic\n",
              "    &lt;/div&gt;\n",
              "    \n",
              "    \n",
              "            &lt;div class=&quot;folium-map&quot; id=&quot;map_a3db72d33b5ff5d48da37ee6762e52c6&quot; &gt;&lt;/div&gt;\n",
              "        \n",
              "&lt;/body&gt;\n",
              "&lt;script&gt;\n",
              "    \n",
              "    \n",
              "            var map_a3db72d33b5ff5d48da37ee6762e52c6 = L.map(\n",
              "                &quot;map_a3db72d33b5ff5d48da37ee6762e52c6&quot;,\n",
              "                {\n",
              "                    center: [48.8601084, 2.3464367],\n",
              "                    crs: L.CRS.EPSG3857,\n",
              "                    zoom: 14,\n",
              "                    zoomControl: true,\n",
              "                    preferCanvas: false,\n",
              "                }\n",
              "            );\n",
              "\n",
              "            \n",
              "\n",
              "        \n",
              "    \n",
              "            var tile_layer_4c711732c890c4511694a1b3e68a333e = L.tileLayer(\n",
              "                &quot;https://tile.openstreetmap.org/{z}/{x}/{y}.png&quot;,\n",
              "                {&quot;attribution&quot;: &quot;\\u0026copy; \\u003ca href=\\&quot;https://www.openstreetmap.org/copyright\\&quot;\\u003eOpenStreetMap\\u003c/a\\u003e contributors&quot;, &quot;detectRetina&quot;: false, &quot;maxNativeZoom&quot;: 19, &quot;maxZoom&quot;: 19, &quot;minZoom&quot;: 0, &quot;noWrap&quot;: false, &quot;opacity&quot;: 1, &quot;subdomains&quot;: &quot;abc&quot;, &quot;tms&quot;: false}\n",
              "            );\n",
              "        \n",
              "    \n",
              "            tile_layer_4c711732c890c4511694a1b3e68a333e.addTo(map_a3db72d33b5ff5d48da37ee6762e52c6);\n",
              "        \n",
              "    \n",
              "            var marker_40493f3151901776e7e5a79afb645781 = L.marker(\n",
              "                [48.8601084, 2.3464367],\n",
              "                {}\n",
              "            ).addTo(map_a3db72d33b5ff5d48da37ee6762e52c6);\n",
              "        \n",
              "    \n",
              "            var icon_4d243fa56fe78d972ece4be18a840e78 = L.AwesomeMarkers.icon(\n",
              "                {&quot;extraClasses&quot;: &quot;fa-rotate-0&quot;, &quot;icon&quot;: &quot;info-sign&quot;, &quot;iconColor&quot;: &quot;white&quot;, &quot;markerColor&quot;: &quot;green&quot;, &quot;prefix&quot;: &quot;glyphicon&quot;}\n",
              "            );\n",
              "            marker_40493f3151901776e7e5a79afb645781.setIcon(icon_4d243fa56fe78d972ece4be18a840e78);\n",
              "        \n",
              "    \n",
              "        var popup_b7621f73eee94acd67eeca0bc269bb3e = L.popup({&quot;maxWidth&quot;: &quot;100%&quot;});\n",
              "\n",
              "        \n",
              "            \n",
              "                var html_fd5ef553b077f5ae549e776b0f6dd305 = $(`&lt;div id=&quot;html_fd5ef553b077f5ae549e776b0f6dd305&quot; style=&quot;width: 100.0%; height: 100.0%;&quot;&gt;Start&lt;/div&gt;`)[0];\n",
              "                popup_b7621f73eee94acd67eeca0bc269bb3e.setContent(html_fd5ef553b077f5ae549e776b0f6dd305);\n",
              "            \n",
              "        \n",
              "\n",
              "        marker_40493f3151901776e7e5a79afb645781.bindPopup(popup_b7621f73eee94acd67eeca0bc269bb3e)\n",
              "        ;\n",
              "\n",
              "        \n",
              "    \n",
              "    \n",
              "            var marker_4ef7e4da22b9066b17814260b883d9ac = L.marker(\n",
              "                [48.8391964, 2.382849],\n",
              "                {}\n",
              "            ).addTo(map_a3db72d33b5ff5d48da37ee6762e52c6);\n",
              "        \n",
              "    \n",
              "            var icon_8b2570a0edcdffc21c6800095738a376 = L.AwesomeMarkers.icon(\n",
              "                {&quot;extraClasses&quot;: &quot;fa-rotate-0&quot;, &quot;icon&quot;: &quot;info-sign&quot;, &quot;iconColor&quot;: &quot;white&quot;, &quot;markerColor&quot;: &quot;red&quot;, &quot;prefix&quot;: &quot;glyphicon&quot;}\n",
              "            );\n",
              "            marker_4ef7e4da22b9066b17814260b883d9ac.setIcon(icon_8b2570a0edcdffc21c6800095738a376);\n",
              "        \n",
              "    \n",
              "        var popup_75788678e51d17a2cf872985bd5f51f9 = L.popup({&quot;maxWidth&quot;: &quot;100%&quot;});\n",
              "\n",
              "        \n",
              "            \n",
              "                var html_9505999def9ed8d2bbe4f862f6521700 = $(`&lt;div id=&quot;html_9505999def9ed8d2bbe4f862f6521700&quot; style=&quot;width: 100.0%; height: 100.0%;&quot;&gt;End&lt;/div&gt;`)[0];\n",
              "                popup_75788678e51d17a2cf872985bd5f51f9.setContent(html_9505999def9ed8d2bbe4f862f6521700);\n",
              "            \n",
              "        \n",
              "\n",
              "        marker_4ef7e4da22b9066b17814260b883d9ac.bindPopup(popup_75788678e51d17a2cf872985bd5f51f9)\n",
              "        ;\n",
              "\n",
              "        \n",
              "    \n",
              "    \n",
              "            var poly_line_7cec79e0f724e89b25f84a26a57b35aa = L.polyline(\n",
              "                [[48.86011, 2.34643], [48.86025, 2.34634], [48.86077, 2.34607], [48.86085, 2.34601], [48.86095, 2.34591], [48.86102, 2.34581], [48.86115, 2.34557], [48.86122, 2.34548], [48.86147, 2.34516], [48.8616, 2.34503], [48.86172, 2.34482], [48.86189, 2.34449], [48.86199, 2.34431], [48.86207, 2.34422], [48.8622, 2.34415], [48.86234, 2.34411], [48.86249, 2.34411], [48.86262, 2.34414], [48.86281, 2.34426], [48.86294, 2.34441], [48.86303, 2.34469], [48.86306, 2.34488], [48.86305, 2.34581], [48.86307, 2.34654], [48.86308, 2.34682], [48.86307, 2.34704], [48.86305, 2.34726], [48.86297, 2.34789], [48.86293, 2.34809], [48.86289, 2.34828], [48.86285, 2.34839], [48.86281, 2.34849], [48.86272, 2.34854], [48.86267, 2.34855], [48.86261, 2.34854], [48.86251, 2.3485], [48.86151, 2.34797], [48.86139, 2.34799], [48.8611, 2.34783], [48.86102, 2.34779], [48.86094, 2.34783], [48.86089, 2.34802], [48.86077, 2.3487], [48.86016, 2.35086], [48.85964, 2.35239], [48.85951, 2.3526], [48.85943, 2.35264], [48.85934, 2.35265], [48.85926, 2.35263], [48.85917, 2.35258], [48.85903, 2.35243], [48.85893, 2.35224], [48.85749, 2.35145], [48.85754, 2.35128], [48.85724, 2.34955], [48.85732, 2.34925], [48.85672, 2.34893], [48.85652, 2.34949], [48.85611, 2.35057], [48.85607, 2.3507], [48.85592, 2.35113], [48.85579, 2.35142], [48.85551, 2.35218], [48.85539, 2.35239], [48.85529, 2.35257], [48.85522, 2.35274], [48.85512, 2.35304], [48.85415, 2.35551], [48.85376, 2.3566], [48.85333, 2.35782], [48.85291, 2.35897], [48.85261, 2.35983], [48.85237, 2.36047], [48.85232, 2.36059], [48.85214, 2.36093], [48.85197, 2.36116], [48.85186, 2.36126], [48.85175, 2.36134], [48.8516, 2.3614], [48.85087, 2.36143], [48.84991, 2.36145], [48.84977, 2.36147], [48.84968, 2.3615], [48.84956, 2.36157], [48.84949, 2.36164], [48.84784, 2.36409], [48.84745, 2.36465], [48.84732, 2.36482], [48.8468, 2.36534], [48.84628, 2.36579], [48.84549, 2.3667], [48.84528, 2.36697], [48.84471, 2.36777], [48.84431, 2.36841], [48.84421, 2.36859], [48.84417, 2.36871], [48.84412, 2.3689], [48.84408, 2.36908], [48.84401, 2.36932], [48.84395, 2.36948], [48.84386, 2.36962], [48.8424, 2.3716], [48.84175, 2.37241], [48.84061, 2.37374], [48.84042, 2.37386], [48.83992, 2.37434], [48.83865, 2.37573], [48.8385, 2.37592], [48.83873, 2.3764], [48.83934, 2.37749], [48.84019, 2.37908], [48.84033, 2.37937], [48.84036, 2.37947], [48.84038, 2.37958], [48.84039, 2.37983], [48.83995, 2.38237], [48.83985, 2.38241], [48.83978, 2.38241], [48.83898, 2.38207], [48.83882, 2.38206], [48.83883, 2.38211], [48.83885, 2.38214], [48.83935, 2.38262], [48.83935, 2.38268], [48.83934, 2.38271], [48.83931, 2.38272], [48.83926, 2.38268]],\n",
              "                {&quot;bubblingMouseEvents&quot;: true, &quot;color&quot;: &quot;red&quot;, &quot;dashArray&quot;: null, &quot;dashOffset&quot;: null, &quot;fill&quot;: false, &quot;fillColor&quot;: &quot;red&quot;, &quot;fillOpacity&quot;: 0.2, &quot;fillRule&quot;: &quot;evenodd&quot;, &quot;lineCap&quot;: &quot;round&quot;, &quot;lineJoin&quot;: &quot;round&quot;, &quot;noClip&quot;: false, &quot;opacity&quot;: 1.0, &quot;smoothFactor&quot;: 1.0, &quot;stroke&quot;: true, &quot;weight&quot;: 5}\n",
              "            ).addTo(map_a3db72d33b5ff5d48da37ee6762e52c6);\n",
              "        \n",
              "    \n",
              "        var popup_53fb621d966b38382a3d6bce7795e56c = L.popup({&quot;maxWidth&quot;: &quot;100%&quot;});\n",
              "\n",
              "        \n",
              "            \n",
              "                var html_c2284a53e3d5626ee4af0997047c7673 = $(`&lt;div id=&quot;html_c2284a53e3d5626ee4af0997047c7673&quot; style=&quot;width: 100.0%; height: 100.0%;&quot;&gt;Route 1: 5.49 km, 26.0 mins&lt;/div&gt;`)[0];\n",
              "                popup_53fb621d966b38382a3d6bce7795e56c.setContent(html_c2284a53e3d5626ee4af0997047c7673);\n",
              "            \n",
              "        \n",
              "\n",
              "        poly_line_7cec79e0f724e89b25f84a26a57b35aa.bindPopup(popup_53fb621d966b38382a3d6bce7795e56c)\n",
              "        ;\n",
              "\n",
              "        \n",
              "    \n",
              "&lt;/script&gt;\n",
              "&lt;/html&gt;\" style=\"position:absolute;width:100%;height:100%;left:0;top:0;border:none !important;\" allowfullscreen webkitallowfullscreen mozallowfullscreen></iframe></div></div>"
            ]
          },
          "metadata": {}
        }
      ]
    },
    {
      "cell_type": "markdown",
      "source": [
        "# **ALL POSSIBLE ROUTES**"
      ],
      "metadata": {
        "id": "hcQaph4JauO1"
      }
    },
    {
      "cell_type": "code",
      "source": [
        "!pip install osmnx networkx geopy matplotlib"
      ],
      "metadata": {
        "colab": {
          "base_uri": "https://localhost:8080/"
        },
        "id": "B-5QSRs0KXpj",
        "outputId": "9c4ce72f-a9bd-4b0d-8517-858d55ff3903",
        "collapsed": true
      },
      "execution_count": null,
      "outputs": [
        {
          "output_type": "stream",
          "name": "stdout",
          "text": [
            "Requirement already satisfied: osmnx in /usr/local/lib/python3.10/dist-packages (2.0.0)\n",
            "Requirement already satisfied: networkx in /usr/local/lib/python3.10/dist-packages (3.4.2)\n",
            "Requirement already satisfied: geopy in /usr/local/lib/python3.10/dist-packages (2.4.1)\n",
            "Requirement already satisfied: matplotlib in /usr/local/lib/python3.10/dist-packages (3.8.0)\n",
            "Requirement already satisfied: geopandas>=1.0 in /usr/local/lib/python3.10/dist-packages (from osmnx) (1.0.1)\n",
            "Requirement already satisfied: numpy>=1.22 in /usr/local/lib/python3.10/dist-packages (from osmnx) (1.26.4)\n",
            "Requirement already satisfied: pandas>=1.4 in /usr/local/lib/python3.10/dist-packages (from osmnx) (2.2.2)\n",
            "Requirement already satisfied: requests>=2.27 in /usr/local/lib/python3.10/dist-packages (from osmnx) (2.32.3)\n",
            "Requirement already satisfied: shapely>=2.0 in /usr/local/lib/python3.10/dist-packages (from osmnx) (2.0.6)\n",
            "Requirement already satisfied: geographiclib<3,>=1.52 in /usr/local/lib/python3.10/dist-packages (from geopy) (2.0)\n",
            "Requirement already satisfied: contourpy>=1.0.1 in /usr/local/lib/python3.10/dist-packages (from matplotlib) (1.3.1)\n",
            "Requirement already satisfied: cycler>=0.10 in /usr/local/lib/python3.10/dist-packages (from matplotlib) (0.12.1)\n",
            "Requirement already satisfied: fonttools>=4.22.0 in /usr/local/lib/python3.10/dist-packages (from matplotlib) (4.55.1)\n",
            "Requirement already satisfied: kiwisolver>=1.0.1 in /usr/local/lib/python3.10/dist-packages (from matplotlib) (1.4.7)\n",
            "Requirement already satisfied: packaging>=20.0 in /usr/local/lib/python3.10/dist-packages (from matplotlib) (24.2)\n",
            "Requirement already satisfied: pillow>=6.2.0 in /usr/local/lib/python3.10/dist-packages (from matplotlib) (11.0.0)\n",
            "Requirement already satisfied: pyparsing>=2.3.1 in /usr/local/lib/python3.10/dist-packages (from matplotlib) (3.2.0)\n",
            "Requirement already satisfied: python-dateutil>=2.7 in /usr/local/lib/python3.10/dist-packages (from matplotlib) (2.8.2)\n",
            "Requirement already satisfied: pyogrio>=0.7.2 in /usr/local/lib/python3.10/dist-packages (from geopandas>=1.0->osmnx) (0.10.0)\n",
            "Requirement already satisfied: pyproj>=3.3.0 in /usr/local/lib/python3.10/dist-packages (from geopandas>=1.0->osmnx) (3.7.0)\n",
            "Requirement already satisfied: pytz>=2020.1 in /usr/local/lib/python3.10/dist-packages (from pandas>=1.4->osmnx) (2024.2)\n",
            "Requirement already satisfied: tzdata>=2022.7 in /usr/local/lib/python3.10/dist-packages (from pandas>=1.4->osmnx) (2024.2)\n",
            "Requirement already satisfied: six>=1.5 in /usr/local/lib/python3.10/dist-packages (from python-dateutil>=2.7->matplotlib) (1.16.0)\n",
            "Requirement already satisfied: charset-normalizer<4,>=2 in /usr/local/lib/python3.10/dist-packages (from requests>=2.27->osmnx) (3.4.0)\n",
            "Requirement already satisfied: idna<4,>=2.5 in /usr/local/lib/python3.10/dist-packages (from requests>=2.27->osmnx) (3.10)\n",
            "Requirement already satisfied: urllib3<3,>=1.21.1 in /usr/local/lib/python3.10/dist-packages (from requests>=2.27->osmnx) (2.2.3)\n",
            "Requirement already satisfied: certifi>=2017.4.17 in /usr/local/lib/python3.10/dist-packages (from requests>=2.27->osmnx) (2024.8.30)\n"
          ]
        }
      ]
    },
    {
      "cell_type": "code",
      "source": [
        "!pip install folium osmnx geopy"
      ],
      "metadata": {
        "colab": {
          "base_uri": "https://localhost:8080/"
        },
        "collapsed": true,
        "id": "PuWb-BRVgSWs",
        "outputId": "e9ce1338-2ba4-41c8-d7c3-da73b3832278"
      },
      "execution_count": null,
      "outputs": [
        {
          "output_type": "stream",
          "name": "stdout",
          "text": [
            "Requirement already satisfied: folium in /usr/local/lib/python3.10/dist-packages (0.18.0)\n",
            "Requirement already satisfied: osmnx in /usr/local/lib/python3.10/dist-packages (2.0.0)\n",
            "Requirement already satisfied: geopy in /usr/local/lib/python3.10/dist-packages (2.4.1)\n",
            "Requirement already satisfied: branca>=0.6.0 in /usr/local/lib/python3.10/dist-packages (from folium) (0.8.0)\n",
            "Requirement already satisfied: jinja2>=2.9 in /usr/local/lib/python3.10/dist-packages (from folium) (3.1.4)\n",
            "Requirement already satisfied: numpy in /usr/local/lib/python3.10/dist-packages (from folium) (1.26.4)\n",
            "Requirement already satisfied: requests in /usr/local/lib/python3.10/dist-packages (from folium) (2.32.3)\n",
            "Requirement already satisfied: xyzservices in /usr/local/lib/python3.10/dist-packages (from folium) (2024.9.0)\n",
            "Requirement already satisfied: geopandas>=1.0 in /usr/local/lib/python3.10/dist-packages (from osmnx) (1.0.1)\n",
            "Requirement already satisfied: networkx>=2.5 in /usr/local/lib/python3.10/dist-packages (from osmnx) (3.4.2)\n",
            "Requirement already satisfied: pandas>=1.4 in /usr/local/lib/python3.10/dist-packages (from osmnx) (2.2.2)\n",
            "Requirement already satisfied: shapely>=2.0 in /usr/local/lib/python3.10/dist-packages (from osmnx) (2.0.6)\n",
            "Requirement already satisfied: geographiclib<3,>=1.52 in /usr/local/lib/python3.10/dist-packages (from geopy) (2.0)\n",
            "Requirement already satisfied: pyogrio>=0.7.2 in /usr/local/lib/python3.10/dist-packages (from geopandas>=1.0->osmnx) (0.10.0)\n",
            "Requirement already satisfied: packaging in /usr/local/lib/python3.10/dist-packages (from geopandas>=1.0->osmnx) (24.2)\n",
            "Requirement already satisfied: pyproj>=3.3.0 in /usr/local/lib/python3.10/dist-packages (from geopandas>=1.0->osmnx) (3.7.0)\n",
            "Requirement already satisfied: MarkupSafe>=2.0 in /usr/local/lib/python3.10/dist-packages (from jinja2>=2.9->folium) (3.0.2)\n",
            "Requirement already satisfied: python-dateutil>=2.8.2 in /usr/local/lib/python3.10/dist-packages (from pandas>=1.4->osmnx) (2.8.2)\n",
            "Requirement already satisfied: pytz>=2020.1 in /usr/local/lib/python3.10/dist-packages (from pandas>=1.4->osmnx) (2024.2)\n",
            "Requirement already satisfied: tzdata>=2022.7 in /usr/local/lib/python3.10/dist-packages (from pandas>=1.4->osmnx) (2024.2)\n",
            "Requirement already satisfied: charset-normalizer<4,>=2 in /usr/local/lib/python3.10/dist-packages (from requests->folium) (3.4.0)\n",
            "Requirement already satisfied: idna<4,>=2.5 in /usr/local/lib/python3.10/dist-packages (from requests->folium) (3.10)\n",
            "Requirement already satisfied: urllib3<3,>=1.21.1 in /usr/local/lib/python3.10/dist-packages (from requests->folium) (2.2.3)\n",
            "Requirement already satisfied: certifi>=2017.4.17 in /usr/local/lib/python3.10/dist-packages (from requests->folium) (2024.8.30)\n",
            "Requirement already satisfied: six>=1.5 in /usr/local/lib/python3.10/dist-packages (from python-dateutil>=2.8.2->pandas>=1.4->osmnx) (1.16.0)\n"
          ]
        }
      ]
    },
    {
      "cell_type": "code",
      "source": [
        "import folium\n",
        "import osmnx as ox\n",
        "from geopy.distance import great_circle\n",
        "from heapq import heappop, heappush\n",
        "from geopy.geocoders import Nominatim"
      ],
      "metadata": {
        "id": "PxcAeylVSqgw"
      },
      "execution_count": null,
      "outputs": []
    },
    {
      "cell_type": "markdown",
      "source": [
        "**Geocoding the location by finding coordinates of the place using Nominatim**"
      ],
      "metadata": {
        "id": "afgMooDFS1HX"
      }
    },
    {
      "cell_type": "code",
      "source": [
        "def geocode_location(location_name):\n",
        "    geolocator = Nominatim(user_agent=\"route_finder\")\n",
        "    try:\n",
        "        location = geolocator.geocode(location_name, timeout=5)\n",
        "        if location:\n",
        "            return location.latitude, location.longitude\n",
        "        else:\n",
        "            print(f\"Geocoding failed for: {location_name}\")\n",
        "            return None\n",
        "    except Exception as e:\n",
        "        print(f\"Error geocoding {location_name}: {e}\")\n",
        "        return None"
      ],
      "metadata": {
        "id": "ibPZWiyYSs4v"
      },
      "execution_count": null,
      "outputs": []
    },
    {
      "cell_type": "markdown",
      "source": [
        "**Fetching street network graph**"
      ],
      "metadata": {
        "id": "XDqdi-GTSwSw"
      }
    },
    {
      "cell_type": "code",
      "source": [
        "def get_graph_for_location(location_name, radius=1000):\n",
        "    location_coords = geocode_location(location_name)\n",
        "    if location_coords:\n",
        "        graph = ox.graph_from_point(location_coords, dist=radius, network_type='all')\n",
        "        return graph\n",
        "    return None"
      ],
      "metadata": {
        "id": "Wmi2SIJnSvfj"
      },
      "execution_count": null,
      "outputs": []
    },
    {
      "cell_type": "markdown",
      "source": [
        "**Applying A* star algorithm to find all the paths avoiding repetitive and shortest paths**"
      ],
      "metadata": {
        "id": "67O-ZgsdS8MO"
      }
    },
    {
      "cell_type": "code",
      "source": [
        "def a_star(graph, start_node, end_node, heuristic, max_paths=5):\n",
        "    open_list = []\n",
        "    came_from = {}\n",
        "    g_score = {node: float('inf') for node in graph.nodes()}\n",
        "    g_score[start_node] = 0\n",
        "    f_score = {node: float('inf') for node in graph.nodes()}\n",
        "    f_score[start_node] = heuristic(graph, start_node, end_node)\n",
        "    heappush(open_list, (f_score[start_node], start_node))\n",
        "\n",
        "    found_paths = []\n",
        "    explored_nodes = set()\n",
        "\n",
        "    while open_list and len(found_paths) < max_paths:\n",
        "        _, current_node = heappop(open_list)\n",
        "\n",
        "        if current_node == end_node:\n",
        "            path = []\n",
        "            while current_node in came_from:\n",
        "                path.append(current_node)\n",
        "                current_node = came_from[current_node]\n",
        "            path.append(start_node)\n",
        "            found_paths.append(path[::-1])\n",
        "\n",
        "            explored_nodes.update(path)\n",
        "\n",
        "        # Exploring all neighbors of the current node\n",
        "        for neighbor in graph.neighbors(current_node):\n",
        "            penalty = 10 if neighbor in explored_nodes else 0\n",
        "            tentative_g_score = g_score[current_node] + graph[current_node][neighbor].get('length', 1) + penalty\n",
        "\n",
        "            if tentative_g_score < g_score[neighbor]:\n",
        "                came_from[neighbor] = current_node\n",
        "                g_score[neighbor] = tentative_g_score\n",
        "                f_score[neighbor] = tentative_g_score + heuristic(graph, neighbor, end_node)\n",
        "                heappush(open_list, (f_score[neighbor], neighbor))\n",
        "\n",
        "    return found_paths"
      ],
      "metadata": {
        "id": "8s_oZetuTZdz"
      },
      "execution_count": null,
      "outputs": []
    },
    {
      "cell_type": "markdown",
      "source": [
        "**Applying Heuristic on A***"
      ],
      "metadata": {
        "id": "k81AyyrmTalz"
      }
    },
    {
      "cell_type": "code",
      "source": [
        "def heuristic(graph, node, end_node):\n",
        "    x1, y1 = graph.nodes[node]['x'], graph.nodes[node]['y']\n",
        "    x2, y2 = graph.nodes[end_node]['x'], graph.nodes[end_node]['y']\n",
        "    return great_circle((y1, x1), (y2, x2)).meters"
      ],
      "metadata": {
        "id": "e1V1tPFXTk5W"
      },
      "execution_count": null,
      "outputs": []
    },
    {
      "cell_type": "markdown",
      "source": [
        "**Visualisation on Map**"
      ],
      "metadata": {
        "id": "4VetDMPnTmAq"
      }
    },
    {
      "cell_type": "code",
      "source": [
        "def visualize_routes_on_map(route_data, start_coords, end_coords, graph):\n",
        "    print(f\"Start coordinates: {start_coords}\")\n",
        "    print(f\"End coordinates: {end_coords}\")\n",
        "\n",
        "    route_map = folium.Map(location=start_coords, zoom_start=14)\n",
        "\n",
        "    folium.Marker(location=[start_coords[0], start_coords[1]], popup=\"Start\", icon=folium.Icon(color=\"green\")).add_to(route_map)\n",
        "    folium.Marker(location=[end_coords[0], end_coords[1]], popup=\"End\", icon=folium.Icon(color=\"red\")).add_to(route_map)\n",
        "\n",
        "    route_colors = ['blue', 'green', 'orange', 'purple', 'red']\n",
        "\n",
        "    # Plotting all routes on the map with labels for easy identification of user\n",
        "    for idx, path in enumerate(route_data):\n",
        "        route_coords = [(graph.nodes[node]['y'], graph.nodes[node]['x']) for node in path]\n",
        "\n",
        "        total_distance = 0\n",
        "        for i in range(len(path) - 1):\n",
        "            start_lat, start_lon = graph.nodes[path[i]]['y'], graph.nodes[path[i]]['x']\n",
        "            end_lat, end_lon = graph.nodes[path[i + 1]]['y'], graph.nodes[path[i + 1]]['x']\n",
        "            total_distance += great_circle((start_lat, start_lon), (end_lat, end_lon)).meters\n",
        "\n",
        "        route_distance_km = total_distance / 1000\n",
        "        expected_time = route_distance_km / 30 * 60\n",
        "        popup_text = f\"Route {idx+1}: {route_distance_km:.2f} km, {expected_time:.1f} mins\"\n",
        "\n",
        "        # Adding polyline to the map(with colour to identify diff routes)\n",
        "        folium.PolyLine(route_coords,\n",
        "                        color=route_colors[idx % len(route_colors)],\n",
        "                        weight=5,\n",
        "                        popup=popup_text).add_to(route_map)\n",
        "\n",
        "        mid_point = route_coords[len(route_coords) // 2]\n",
        "        folium.Marker(location=mid_point, popup=f\"Route {idx+1}\", icon=folium.Icon(color=\"blue\", icon=\"info-sign\")).add_to(route_map)\n",
        "\n",
        "    return route_map"
      ],
      "metadata": {
        "id": "g4M7G99UT-xI"
      },
      "execution_count": null,
      "outputs": []
    },
    {
      "cell_type": "markdown",
      "source": [
        "**Displaying the results**"
      ],
      "metadata": {
        "id": "MQ9ikeJlUCjC"
      }
    },
    {
      "cell_type": "code",
      "source": [
        "def display_routes(graph, all_routes, start_location, end_location, start_coords, end_coords):\n",
        "    if not all_routes:\n",
        "        print(\"No routes found.\")\n",
        "        return\n",
        "\n",
        "    route_map = visualize_routes_on_map(all_routes, start_coords, end_coords, graph)\n",
        "\n",
        "    display(route_map)\n",
        "\n",
        "    print(f\"Total routes found: {len(all_routes)}\")\n",
        "    for i, path in enumerate(all_routes):\n",
        "        route_coords = [(graph.nodes[node]['y'], graph.nodes[node]['x']) for node in path]\n",
        "        total_distance = 0\n",
        "        for i in range(len(path) - 1):\n",
        "            start_lat, start_lon = graph.nodes[path[i]]['y'], graph.nodes[path[i]]['x']\n",
        "            end_lat, end_lon = graph.nodes[path[i + 1]]['y'], graph.nodes[path[i + 1]]['x']\n",
        "            total_distance += great_circle((start_lat, start_lon), (end_lat, end_lon)).meters\n",
        "        route_distance_km = total_distance / 1000  # km\n",
        "        expected_time = route_distance_km / 30 * 60  # in minutes\n",
        "\n",
        "        print(f\"Route {i+1}:\")\n",
        "        print(f\"  Distance: {route_distance_km:.2f} km\")\n",
        "        print(f\"  Estimated Time: {expected_time:.1f} mins\")\n",
        "        print(\"-\" * 40)"
      ],
      "metadata": {
        "id": "kNx5D165UJTK"
      },
      "execution_count": null,
      "outputs": []
    },
    {
      "cell_type": "markdown",
      "source": [
        "**Main function**"
      ],
      "metadata": {
        "id": "UUmQHYwH9jRO"
      }
    },
    {
      "cell_type": "code",
      "source": [
        "if __name__ == \"__main__\":\n",
        "\n",
        "    graph_start = get_graph_for_location(start_location, radius=3000)\n",
        "    if not graph_start:\n",
        "        print(f\"Could not load the graph for {start_location}.\")\n",
        "    else:\n",
        "        start_coords = geocode_location(start_location)\n",
        "        if not start_coords:\n",
        "            print(\"Error geocoding start location.\")\n",
        "            exit()\n",
        "        start_node = ox.distance.nearest_nodes(graph_start, start_coords[1], start_coords[0])\n",
        "\n",
        "        graph_end = get_graph_for_location(end_location, radius=3000)\n",
        "        if not graph_end:\n",
        "            print(f\"Could not load the graph for {end_location}.\")\n",
        "        else:\n",
        "            end_coords = geocode_location(end_location)\n",
        "            if not end_coords:\n",
        "                print(\"Error geocoding end location.\")\n",
        "                exit()\n",
        "            end_node = ox.distance.nearest_nodes(graph_start, end_coords[1], end_coords[0])\n",
        "\n",
        "            all_routes = a_star(graph_start, start_node, end_node, heuristic, max_paths=5)\n",
        "\n",
        "            display_routes(graph_start, all_routes, start_location, end_location, start_coords, end_coords)"
      ],
      "metadata": {
        "id": "lH1CpeQ6dgiI",
        "colab": {
          "base_uri": "https://localhost:8080/",
          "height": 986
        },
        "outputId": "79c3fbf0-5239-47c8-bd56-06240f80ecff"
      },
      "execution_count": null,
      "outputs": [
        {
          "output_type": "stream",
          "name": "stdout",
          "text": [
            "Start coordinates: (11.8763836, 75.3737973)\n",
            "End coordinates: (9.6287383, 76.64553257390992)\n"
          ]
        },
        {
          "output_type": "display_data",
          "data": {
            "text/plain": [
              "<folium.folium.Map at 0x7a2d7bc54b50>"
            ],
            "text/html": [
              "<div style=\"width:100%;\"><div style=\"position:relative;width:100%;height:0;padding-bottom:60%;\"><span style=\"color:#565656\">Make this Notebook Trusted to load map: File -> Trust Notebook</span><iframe srcdoc=\"&lt;!DOCTYPE html&gt;\n",
              "&lt;html&gt;\n",
              "&lt;head&gt;\n",
              "    \n",
              "    &lt;meta http-equiv=&quot;content-type&quot; content=&quot;text/html; charset=UTF-8&quot; /&gt;\n",
              "    \n",
              "        &lt;script&gt;\n",
              "            L_NO_TOUCH = false;\n",
              "            L_DISABLE_3D = false;\n",
              "        &lt;/script&gt;\n",
              "    \n",
              "    &lt;style&gt;html, body {width: 100%;height: 100%;margin: 0;padding: 0;}&lt;/style&gt;\n",
              "    &lt;style&gt;#map {position:absolute;top:0;bottom:0;right:0;left:0;}&lt;/style&gt;\n",
              "    &lt;script src=&quot;https://cdn.jsdelivr.net/npm/leaflet@1.9.3/dist/leaflet.js&quot;&gt;&lt;/script&gt;\n",
              "    &lt;script src=&quot;https://code.jquery.com/jquery-3.7.1.min.js&quot;&gt;&lt;/script&gt;\n",
              "    &lt;script src=&quot;https://cdn.jsdelivr.net/npm/bootstrap@5.2.2/dist/js/bootstrap.bundle.min.js&quot;&gt;&lt;/script&gt;\n",
              "    &lt;script src=&quot;https://cdnjs.cloudflare.com/ajax/libs/Leaflet.awesome-markers/2.0.2/leaflet.awesome-markers.js&quot;&gt;&lt;/script&gt;\n",
              "    &lt;link rel=&quot;stylesheet&quot; href=&quot;https://cdn.jsdelivr.net/npm/leaflet@1.9.3/dist/leaflet.css&quot;/&gt;\n",
              "    &lt;link rel=&quot;stylesheet&quot; href=&quot;https://cdn.jsdelivr.net/npm/bootstrap@5.2.2/dist/css/bootstrap.min.css&quot;/&gt;\n",
              "    &lt;link rel=&quot;stylesheet&quot; href=&quot;https://netdna.bootstrapcdn.com/bootstrap/3.0.0/css/bootstrap-glyphicons.css&quot;/&gt;\n",
              "    &lt;link rel=&quot;stylesheet&quot; href=&quot;https://cdn.jsdelivr.net/npm/@fortawesome/fontawesome-free@6.2.0/css/all.min.css&quot;/&gt;\n",
              "    &lt;link rel=&quot;stylesheet&quot; href=&quot;https://cdnjs.cloudflare.com/ajax/libs/Leaflet.awesome-markers/2.0.2/leaflet.awesome-markers.css&quot;/&gt;\n",
              "    &lt;link rel=&quot;stylesheet&quot; href=&quot;https://cdn.jsdelivr.net/gh/python-visualization/folium/folium/templates/leaflet.awesome.rotate.min.css&quot;/&gt;\n",
              "    \n",
              "            &lt;meta name=&quot;viewport&quot; content=&quot;width=device-width,\n",
              "                initial-scale=1.0, maximum-scale=1.0, user-scalable=no&quot; /&gt;\n",
              "            &lt;style&gt;\n",
              "                #map_1534bb071fa30ad4b7fe45d25cad06c7 {\n",
              "                    position: relative;\n",
              "                    width: 100.0%;\n",
              "                    height: 100.0%;\n",
              "                    left: 0.0%;\n",
              "                    top: 0.0%;\n",
              "                }\n",
              "                .leaflet-container { font-size: 1rem; }\n",
              "            &lt;/style&gt;\n",
              "        \n",
              "&lt;/head&gt;\n",
              "&lt;body&gt;\n",
              "    \n",
              "    \n",
              "            &lt;div class=&quot;folium-map&quot; id=&quot;map_1534bb071fa30ad4b7fe45d25cad06c7&quot; &gt;&lt;/div&gt;\n",
              "        \n",
              "&lt;/body&gt;\n",
              "&lt;script&gt;\n",
              "    \n",
              "    \n",
              "            var map_1534bb071fa30ad4b7fe45d25cad06c7 = L.map(\n",
              "                &quot;map_1534bb071fa30ad4b7fe45d25cad06c7&quot;,\n",
              "                {\n",
              "                    center: [11.8763836, 75.3737973],\n",
              "                    crs: L.CRS.EPSG3857,\n",
              "                    zoom: 14,\n",
              "                    zoomControl: true,\n",
              "                    preferCanvas: false,\n",
              "                }\n",
              "            );\n",
              "\n",
              "            \n",
              "\n",
              "        \n",
              "    \n",
              "            var tile_layer_e1ce4dae6774ea9c3d1611a927fd7431 = L.tileLayer(\n",
              "                &quot;https://tile.openstreetmap.org/{z}/{x}/{y}.png&quot;,\n",
              "                {&quot;attribution&quot;: &quot;\\u0026copy; \\u003ca href=\\&quot;https://www.openstreetmap.org/copyright\\&quot;\\u003eOpenStreetMap\\u003c/a\\u003e contributors&quot;, &quot;detectRetina&quot;: false, &quot;maxNativeZoom&quot;: 19, &quot;maxZoom&quot;: 19, &quot;minZoom&quot;: 0, &quot;noWrap&quot;: false, &quot;opacity&quot;: 1, &quot;subdomains&quot;: &quot;abc&quot;, &quot;tms&quot;: false}\n",
              "            );\n",
              "        \n",
              "    \n",
              "            tile_layer_e1ce4dae6774ea9c3d1611a927fd7431.addTo(map_1534bb071fa30ad4b7fe45d25cad06c7);\n",
              "        \n",
              "    \n",
              "            var marker_ecd30b49b0b7169cbd05bc0cff970165 = L.marker(\n",
              "                [11.8763836, 75.3737973],\n",
              "                {}\n",
              "            ).addTo(map_1534bb071fa30ad4b7fe45d25cad06c7);\n",
              "        \n",
              "    \n",
              "            var icon_71646ea62f8e6d8455210f3d985edf4d = L.AwesomeMarkers.icon(\n",
              "                {&quot;extraClasses&quot;: &quot;fa-rotate-0&quot;, &quot;icon&quot;: &quot;info-sign&quot;, &quot;iconColor&quot;: &quot;white&quot;, &quot;markerColor&quot;: &quot;green&quot;, &quot;prefix&quot;: &quot;glyphicon&quot;}\n",
              "            );\n",
              "            marker_ecd30b49b0b7169cbd05bc0cff970165.setIcon(icon_71646ea62f8e6d8455210f3d985edf4d);\n",
              "        \n",
              "    \n",
              "        var popup_73fb20017a3d926bfaf363744fefbca1 = L.popup({&quot;maxWidth&quot;: &quot;100%&quot;});\n",
              "\n",
              "        \n",
              "            \n",
              "                var html_e8f1b9ce297e1baeaa6ceee4180e36f0 = $(`&lt;div id=&quot;html_e8f1b9ce297e1baeaa6ceee4180e36f0&quot; style=&quot;width: 100.0%; height: 100.0%;&quot;&gt;Start&lt;/div&gt;`)[0];\n",
              "                popup_73fb20017a3d926bfaf363744fefbca1.setContent(html_e8f1b9ce297e1baeaa6ceee4180e36f0);\n",
              "            \n",
              "        \n",
              "\n",
              "        marker_ecd30b49b0b7169cbd05bc0cff970165.bindPopup(popup_73fb20017a3d926bfaf363744fefbca1)\n",
              "        ;\n",
              "\n",
              "        \n",
              "    \n",
              "    \n",
              "            var marker_f38ebd845dab82826c3acb8ef1b35c6a = L.marker(\n",
              "                [9.6287383, 76.64553257390992],\n",
              "                {}\n",
              "            ).addTo(map_1534bb071fa30ad4b7fe45d25cad06c7);\n",
              "        \n",
              "    \n",
              "            var icon_356ba004aa22093c96e2b95e6bffa504 = L.AwesomeMarkers.icon(\n",
              "                {&quot;extraClasses&quot;: &quot;fa-rotate-0&quot;, &quot;icon&quot;: &quot;info-sign&quot;, &quot;iconColor&quot;: &quot;white&quot;, &quot;markerColor&quot;: &quot;red&quot;, &quot;prefix&quot;: &quot;glyphicon&quot;}\n",
              "            );\n",
              "            marker_f38ebd845dab82826c3acb8ef1b35c6a.setIcon(icon_356ba004aa22093c96e2b95e6bffa504);\n",
              "        \n",
              "    \n",
              "        var popup_94da4dae57f10d8e8859ed5c0d643eca = L.popup({&quot;maxWidth&quot;: &quot;100%&quot;});\n",
              "\n",
              "        \n",
              "            \n",
              "                var html_992d272a8b327d78b207f8bc5d64fe49 = $(`&lt;div id=&quot;html_992d272a8b327d78b207f8bc5d64fe49&quot; style=&quot;width: 100.0%; height: 100.0%;&quot;&gt;End&lt;/div&gt;`)[0];\n",
              "                popup_94da4dae57f10d8e8859ed5c0d643eca.setContent(html_992d272a8b327d78b207f8bc5d64fe49);\n",
              "            \n",
              "        \n",
              "\n",
              "        marker_f38ebd845dab82826c3acb8ef1b35c6a.bindPopup(popup_94da4dae57f10d8e8859ed5c0d643eca)\n",
              "        ;\n",
              "\n",
              "        \n",
              "    \n",
              "    \n",
              "            var poly_line_6b2ab709592eae5a79dc5f8bcbe67843 = L.polyline(\n",
              "                [[11.8763203, 75.3737075], [11.8763579, 75.3743342], [11.8761055, 75.375631], [11.8759942, 75.3761021], [11.8745473, 75.3763081], [11.8745513, 75.3765882], [11.8744997, 75.3774515], [11.8744588, 75.3791531], [11.8744729, 75.3798928], [11.8744557, 75.3803369], [11.8742297, 75.3817512], [11.8741865, 75.3829604], [11.8743585, 75.3840251], [11.8743749, 75.3848008], [11.8743113, 75.3853398], [11.8742736, 75.3856764], [11.8742411, 75.3858351], [11.8740571, 75.3875822], [11.873998, 75.3887786], [11.8739909, 75.3888023], [11.8739088, 75.389058], [11.8739057, 75.3890671], [11.8735412, 75.3895277], [11.8732933, 75.3897635], [11.8727148, 75.3911117], [11.8726853, 75.3912576], [11.8726087, 75.3912401], [11.8726295, 75.3911343], [11.8709449, 75.3917635], [11.8709069, 75.3914411], [11.8707367, 75.3901655], [11.8705485, 75.3888302], [11.8692035, 75.387877], [11.8688953, 75.3870913], [11.8688338, 75.3864638], [11.8687865, 75.385965], [11.8688705, 75.385834], [11.869736, 75.3845523], [11.8690624, 75.3843013], [11.8690672, 75.383913], [11.8679384, 75.3840807], [11.8679309, 75.3838497], [11.8668244, 75.3835861], [11.8669518, 75.383087], [11.8670399, 75.3828669], [11.8675671, 75.381825], [11.8658431, 75.3810972], [11.8655342, 75.3809877], [11.8646535, 75.3807964], [11.864667, 75.3817916], [11.8634543, 75.3814693], [11.8633957, 75.3819758], [11.8623279, 75.3816166], [11.8618909, 75.3829348], [11.861766, 75.3829373], [11.8617454, 75.3835875], [11.8615535, 75.3836049], [11.8615915, 75.3841938], [11.8615579, 75.3852856], [11.8615311, 75.3858582], [11.8615258, 75.3859055], [11.8614946, 75.3860767], [11.8613072, 75.3864135], [11.8608781, 75.3864635], [11.8608253, 75.3871028], [11.8600558, 75.3874897], [11.8603105, 75.3878782], [11.8605239, 75.3883394], [11.859498, 75.389904], [11.8583989, 75.3909455], [11.8584724, 75.3910122], [11.8573675, 75.3917134], [11.8551084, 75.3921801], [11.8550088, 75.3927863], [11.8549613, 75.394227], [11.8548564, 75.3949567], [11.8545682, 75.3960252], [11.8540371, 75.3971948], [11.8539579, 75.3982637], [11.8537059, 75.399225], [11.8524328, 75.3993883], [11.8523375, 75.4002302], [11.8518676, 75.4012682], [11.8510696, 75.4009598], [11.8503343, 75.4009317], [11.8502978, 75.4009318], [11.8496192, 75.4009336]],\n",
              "                {&quot;bubblingMouseEvents&quot;: true, &quot;color&quot;: &quot;blue&quot;, &quot;dashArray&quot;: null, &quot;dashOffset&quot;: null, &quot;fill&quot;: false, &quot;fillColor&quot;: &quot;blue&quot;, &quot;fillOpacity&quot;: 0.2, &quot;fillRule&quot;: &quot;evenodd&quot;, &quot;lineCap&quot;: &quot;round&quot;, &quot;lineJoin&quot;: &quot;round&quot;, &quot;noClip&quot;: false, &quot;opacity&quot;: 1.0, &quot;smoothFactor&quot;: 1.0, &quot;stroke&quot;: true, &quot;weight&quot;: 5}\n",
              "            ).addTo(map_1534bb071fa30ad4b7fe45d25cad06c7);\n",
              "        \n",
              "    \n",
              "        var popup_229185f6ea9ddb184eb8852bb5887608 = L.popup({&quot;maxWidth&quot;: &quot;100%&quot;});\n",
              "\n",
              "        \n",
              "            \n",
              "                var html_b40137045c1dde9f2954767bae4af4f8 = $(`&lt;div id=&quot;html_b40137045c1dde9f2954767bae4af4f8&quot; style=&quot;width: 100.0%; height: 100.0%;&quot;&gt;Route 1: 7.69 km, 15.4 mins&lt;/div&gt;`)[0];\n",
              "                popup_229185f6ea9ddb184eb8852bb5887608.setContent(html_b40137045c1dde9f2954767bae4af4f8);\n",
              "            \n",
              "        \n",
              "\n",
              "        poly_line_6b2ab709592eae5a79dc5f8bcbe67843.bindPopup(popup_229185f6ea9ddb184eb8852bb5887608)\n",
              "        ;\n",
              "\n",
              "        \n",
              "    \n",
              "    \n",
              "            var marker_e5a46aa9ad4b43b6f303c947a5fd46f8 = L.marker(\n",
              "                [11.8669518, 75.383087],\n",
              "                {}\n",
              "            ).addTo(map_1534bb071fa30ad4b7fe45d25cad06c7);\n",
              "        \n",
              "    \n",
              "            var icon_afee3e641f1824b5ae07967474886818 = L.AwesomeMarkers.icon(\n",
              "                {&quot;extraClasses&quot;: &quot;fa-rotate-0&quot;, &quot;icon&quot;: &quot;info-sign&quot;, &quot;iconColor&quot;: &quot;white&quot;, &quot;markerColor&quot;: &quot;blue&quot;, &quot;prefix&quot;: &quot;glyphicon&quot;}\n",
              "            );\n",
              "            marker_e5a46aa9ad4b43b6f303c947a5fd46f8.setIcon(icon_afee3e641f1824b5ae07967474886818);\n",
              "        \n",
              "    \n",
              "        var popup_e1bd0fd3ec5ec91659703ce39897594d = L.popup({&quot;maxWidth&quot;: &quot;100%&quot;});\n",
              "\n",
              "        \n",
              "            \n",
              "                var html_386a2579eed959237693dc81bff6a04a = $(`&lt;div id=&quot;html_386a2579eed959237693dc81bff6a04a&quot; style=&quot;width: 100.0%; height: 100.0%;&quot;&gt;Route 1&lt;/div&gt;`)[0];\n",
              "                popup_e1bd0fd3ec5ec91659703ce39897594d.setContent(html_386a2579eed959237693dc81bff6a04a);\n",
              "            \n",
              "        \n",
              "\n",
              "        marker_e5a46aa9ad4b43b6f303c947a5fd46f8.bindPopup(popup_e1bd0fd3ec5ec91659703ce39897594d)\n",
              "        ;\n",
              "\n",
              "        \n",
              "    \n",
              "&lt;/script&gt;\n",
              "&lt;/html&gt;\" style=\"position:absolute;width:100%;height:100%;left:0;top:0;border:none !important;\" allowfullscreen webkitallowfullscreen mozallowfullscreen></iframe></div></div>"
            ]
          },
          "metadata": {}
        },
        {
          "output_type": "stream",
          "name": "stdout",
          "text": [
            "Total routes found: 1\n",
            "Route 86:\n",
            "  Distance: 7.69 km\n",
            "  Estimated Time: 15.4 mins\n",
            "----------------------------------------\n"
          ]
        }
      ]
    },
    {
      "cell_type": "code",
      "source": [
        "# API Keys\n",
        "GRAPH_HOPPER_API_KEY = \"8e462f8a-7046-4bc3-9dbc-1ae25e990383\"\n",
        "OPENWEATHER_API_KEY = \"50683b4c3bc21aef7c2436461ee7af10\""
      ],
      "metadata": {
        "id": "fZLTxsiQdiiH"
      },
      "execution_count": null,
      "outputs": []
    },
    {
      "cell_type": "markdown",
      "source": [
        "We tried to implement Graphhopper API,to involve traffic data and finding the  the alternate paths to get accurate results, but since we are using the free version of the Graphhopper API it is limited to implementing in one route.So we used A* for this by finding and avoiding the shortest path generated and then displaying all the other possible paths and therefore there are slight changes in distance and time for alternate paths when compared to the real world."
      ],
      "metadata": {
        "id": "RGem6guU-hNc"
      }
    }
  ]
}
